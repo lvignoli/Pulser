{
 "cells": [
  {
   "cell_type": "markdown",
   "metadata": {},
   "source": [
    "# Simulation using the `pulser.sampler` module\n",
    "\n",
    "This notebook is a work document to investigate how to use the sampler correctly in the simulation module."
   ]
  },
  {
   "cell_type": "code",
   "execution_count": 1,
   "metadata": {},
   "outputs": [],
   "source": [
    "import numpy as np\n",
    "\n",
    "import pulser\n",
    "import pulser_simulation\n",
    "from pulser.channels import Rydberg\n",
    "from pulser.devices import MockDevice\n",
    "from pulser import Pulse\n"
   ]
  },
  {
   "cell_type": "code",
   "execution_count": 2,
   "metadata": {},
   "outputs": [],
   "source": [
    "reg = pulser.Register.square(1)\n",
    "seq = pulser.Sequence(reg, MockDevice)\n",
    "\n",
    "seq.declare_channel(\"main\", \"rydberg_global\")\n",
    "\n",
    "seq.add(Pulse.ConstantPulse(500, 10, 20, 0), \"main\")\n"
   ]
  },
  {
   "cell_type": "code",
   "execution_count": 3,
   "metadata": {},
   "outputs": [
    {
     "name": "stdout",
     "output_type": "stream",
     "text": [
      "Using legacy sampling\n",
      "501\n",
      "Quantum object: dims = [[2], [1]], shape = (2, 1), type = ket\n",
      "Qobj data =\n",
      "[[0.17230094+0.22978882j]\n",
      " [0.95786715+0.j        ]]\n"
     ]
    }
   ],
   "source": [
    "sim = pulser_simulation.Simulation(seq)\n",
    "res = sim.run()\n",
    "print(len(sim.samples[\"Global\"][\"ground-rydberg\"][\"amp\"]))\n",
    "fs1 = res.get_final_state()\n",
    "print(fs1)"
   ]
  },
  {
   "cell_type": "code",
   "execution_count": 4,
   "metadata": {},
   "outputs": [
    {
     "name": "stdout",
     "output_type": "stream",
     "text": [
      "Using the sampler\n",
      "501\n",
      "Quantum object: dims = [[3], [1]], shape = (3, 1), type = ket\n",
      "Qobj data =\n",
      "[[0.17041513+0.2293127j]\n",
      " [0.95831851+0.j       ]\n",
      " [0.        +0.j       ]]\n"
     ]
    }
   ],
   "source": [
    "config2 = pulser_simulation.SimConfig(use_sampler=True)\n",
    "sim2 = pulser_simulation.Simulation(seq, config=config2)\n",
    "res2 = sim2.run()\n",
    "print(len(sim.samples[\"Global\"][\"ground-rydberg\"][\"amp\"]))\n",
    "fs2 = res2.get_final_state()\n",
    "print(fs2)"
   ]
  },
  {
   "cell_type": "markdown",
   "metadata": {},
   "source": [
    "The two final state differ: using the sampler, we have a 3-level state."
   ]
  },
  {
   "cell_type": "code",
   "execution_count": 5,
   "metadata": {},
   "outputs": [
    {
     "ename": "TypeError",
     "evalue": "Incompatible quantum object dimensions",
     "output_type": "error",
     "traceback": [
      "\u001b[0;31m---------------------------------------------------------------------------\u001b[0m",
      "\u001b[0;31mTypeError\u001b[0m                                 Traceback (most recent call last)",
      "\u001b[1;32m/Users/manta/Desktop/Pulser/simulation_with_sampler.ipynb Cell 6'\u001b[0m in \u001b[0;36m<cell line: 1>\u001b[0;34m()\u001b[0m\n\u001b[0;32m----> <a href='vscode-notebook-cell:/Users/manta/Desktop/Pulser/simulation_with_sampler.ipynb#ch0000006?line=0'>1</a>\u001b[0m \u001b[39mprint\u001b[39m(fs1 \u001b[39m-\u001b[39m fs2)\n",
      "File \u001b[0;32m~/.pyenv/versions/3.10.1/envs/pulser_dev/lib/python3.10/site-packages/qutip/qobj.py:476\u001b[0m, in \u001b[0;36mQobj.__sub__\u001b[0;34m(self, other)\u001b[0m\n\u001b[1;32m    472\u001b[0m \u001b[39mdef\u001b[39;00m \u001b[39m__sub__\u001b[39m(\u001b[39mself\u001b[39m, other):\n\u001b[1;32m    473\u001b[0m     \u001b[39m\"\"\"\u001b[39;00m\n\u001b[1;32m    474\u001b[0m \u001b[39m    SUBTRACTION with Qobj on LEFT [ ex. Qobj-4 ]\u001b[39;00m\n\u001b[1;32m    475\u001b[0m \u001b[39m    \"\"\"\u001b[39;00m\n\u001b[0;32m--> 476\u001b[0m     \u001b[39mreturn\u001b[39;00m \u001b[39mself\u001b[39;49m \u001b[39m+\u001b[39;49m (\u001b[39m-\u001b[39;49mother)\n",
      "File \u001b[0;32m~/.pyenv/versions/3.10.1/envs/pulser_dev/lib/python3.10/site-packages/qutip/qobj.py:435\u001b[0m, in \u001b[0;36mQobj.__add__\u001b[0;34m(self, other)\u001b[0m\n\u001b[1;32m    432\u001b[0m     \u001b[39mreturn\u001b[39;00m out\n\u001b[1;32m    434\u001b[0m \u001b[39melif\u001b[39;00m \u001b[39mself\u001b[39m\u001b[39m.\u001b[39mdims \u001b[39m!=\u001b[39m other\u001b[39m.\u001b[39mdims:\n\u001b[0;32m--> 435\u001b[0m     \u001b[39mraise\u001b[39;00m \u001b[39mTypeError\u001b[39;00m(\u001b[39m'\u001b[39m\u001b[39mIncompatible quantum object dimensions\u001b[39m\u001b[39m'\u001b[39m)\n\u001b[1;32m    437\u001b[0m \u001b[39melif\u001b[39;00m \u001b[39mself\u001b[39m\u001b[39m.\u001b[39mshape \u001b[39m!=\u001b[39m other\u001b[39m.\u001b[39mshape:\n\u001b[1;32m    438\u001b[0m     \u001b[39mraise\u001b[39;00m \u001b[39mTypeError\u001b[39;00m(\u001b[39m'\u001b[39m\u001b[39mMatrix shapes do not match\u001b[39m\u001b[39m'\u001b[39m)\n",
      "\u001b[0;31mTypeError\u001b[0m: Incompatible quantum object dimensions"
     ]
    }
   ],
   "source": [
    "print(fs1 - fs2)\n"
   ]
  },
  {
   "cell_type": "code",
   "execution_count": null,
   "metadata": {},
   "outputs": [],
   "source": []
  }
 ],
 "metadata": {
  "kernelspec": {
   "display_name": "Python 3.10.1 64-bit ('pulser_dev')",
   "language": "python",
   "name": "python3"
  },
  "language_info": {
   "codemirror_mode": {
    "name": "ipython",
    "version": 3
   },
   "file_extension": ".py",
   "mimetype": "text/x-python",
   "name": "python",
   "nbconvert_exporter": "python",
   "pygments_lexer": "ipython3",
   "version": "3.10.1"
  },
  "orig_nbformat": 4,
  "vscode": {
   "interpreter": {
    "hash": "09d8bcf34db098a0f7dfd01b586d0dc1b8210cc666e3c39f20e5f794936347e7"
   }
  }
 },
 "nbformat": 4,
 "nbformat_minor": 2
}
