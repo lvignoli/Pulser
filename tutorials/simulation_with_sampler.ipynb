{
 "cells": [
  {
   "cell_type": "markdown",
   "metadata": {},
   "source": [
    "# Simulation using the `pulser.sampler` module\n",
    "\n",
    "This notebook is a work document to investigate how to use the sampler correctly in the simulation module."
   ]
  },
  {
   "cell_type": "code",
   "execution_count": 1,
   "metadata": {},
   "outputs": [],
   "source": [
    "import numpy as np\n",
    "\n",
    "import pulser\n",
    "import pulser_simulation\n",
    "from pulser import Pulse\n",
    "from pulser.devices import MockDevice\n",
    "from pulser.waveforms import BlackmanWaveform, RampWaveform"
   ]
  },
  {
   "cell_type": "markdown",
   "metadata": {},
   "source": [
    "### Simple sequence"
   ]
  },
  {
   "cell_type": "markdown",
   "metadata": {},
   "source": [
    "Lets simulate a simple sequence, using either the `simulation.Simulation._extract_sample()` or the `sampler.sample()` functions for samples extraction."
   ]
  },
  {
   "cell_type": "code",
   "execution_count": 2,
   "metadata": {},
   "outputs": [],
   "source": [
    "reg = pulser.Register.square(1)\n",
    "seq = pulser.Sequence(reg, MockDevice)\n",
    "\n",
    "seq.declare_channel(\"main\", \"rydberg_global\")\n",
    "\n",
    "seq.add(Pulse.ConstantPulse(500, 10, 20, 0), \"main\")"
   ]
  },
  {
   "cell_type": "code",
   "execution_count": 3,
   "metadata": {},
   "outputs": [
    {
     "name": "stdout",
     "output_type": "stream",
     "text": [
      "501\n",
      "Quantum object: dims = [[2], [1]], shape = (2, 1), type = ket\n",
      "Qobj data =\n",
      "[[0.17230094+0.22978882j]\n",
      " [0.95786715+0.j        ]]\n"
     ]
    }
   ],
   "source": [
    "sim = pulser_simulation.Simulation(seq)\n",
    "res = sim.run()\n",
    "print(len(sim.samples[\"Global\"][\"ground-rydberg\"][\"amp\"]))\n",
    "fs1 = res.get_final_state()\n",
    "print(fs1)"
   ]
  },
  {
   "cell_type": "code",
   "execution_count": 4,
   "metadata": {},
   "outputs": [
    {
     "name": "stdout",
     "output_type": "stream",
     "text": [
      "501\n",
      "Quantum object: dims = [[2], [1]], shape = (2, 1), type = ket\n",
      "Qobj data =\n",
      "[[0.17230094+0.22978882j]\n",
      " [0.95786715+0.j        ]]\n"
     ]
    }
   ],
   "source": [
    "config2 = pulser_simulation.SimConfig(use_sampler=True)\n",
    "sim2 = pulser_simulation.Simulation(seq, config=config2)\n",
    "res2 = sim2.run()\n",
    "print(len(sim2.samples[\"Global\"][\"ground-rydberg\"][\"amp\"]))\n",
    "fs2 = res2.get_final_state()\n",
    "print(fs2)"
   ]
  },
  {
   "cell_type": "markdown",
   "metadata": {},
   "source": [
    "The final states are exactly the same."
   ]
  },
  {
   "cell_type": "code",
   "execution_count": 5,
   "metadata": {},
   "outputs": [
    {
     "data": {
      "text/plain": [
       "True"
      ]
     },
     "execution_count": 5,
     "metadata": {},
     "output_type": "execute_result"
    }
   ],
   "source": [
    "fs1 == fs2"
   ]
  },
  {
   "cell_type": "markdown",
   "metadata": {},
   "source": [
    "It is no surprise, since we can check that the samples are the same."
   ]
  },
  {
   "cell_type": "code",
   "execution_count": 6,
   "metadata": {},
   "outputs": [],
   "source": [
    "def check(a, b):\n",
    "    np.testing.assert_array_equal(a, b)\n",
    "\n",
    "check(sim.samples[\"Global\"][\"ground-rydberg\"][\"amp\"], sim2.samples[\"Global\"][\"ground-rydberg\"][\"amp\"])\n",
    "check(sim.samples[\"Global\"][\"ground-rydberg\"][\"det\"], sim2.samples[\"Global\"][\"ground-rydberg\"][\"det\"])\n",
    "check(sim.samples[\"Global\"][\"ground-rydberg\"][\"phase\"], sim2.samples[\"Global\"][\"ground-rydberg\"][\"phase\"])\n"
   ]
  },
  {
   "cell_type": "markdown",
   "metadata": {},
   "source": [
    "We retain the additional 0 sample on all the parameters, thanks to the `additional_final_sample` flag when calling `sampler.sample`."
   ]
  },
  {
   "cell_type": "code",
   "execution_count": 7,
   "metadata": {},
   "outputs": [
    {
     "name": "stdout",
     "output_type": "stream",
     "text": [
      "[10. 10. 10. 10. 10. 10. 10. 10. 10.  0.]\n",
      "[10. 10. 10. 10. 10. 10. 10. 10. 10.  0.]\n"
     ]
    }
   ],
   "source": [
    "print(sim.samples[\"Global\"][\"ground-rydberg\"][\"amp\"][-10:])\n",
    "print(sim2.samples[\"Global\"][\"ground-rydberg\"][\"amp\"][-10:])"
   ]
  },
  {
   "cell_type": "markdown",
   "metadata": {},
   "source": [
    "### More intricate sequence"
   ]
  },
  {
   "cell_type": "code",
   "execution_count": 8,
   "metadata": {},
   "outputs": [],
   "source": [
    "reg = pulser.Register.rectangle(1, 2, spacing=10.0, prefix=\"q\")\n",
    "seq = pulser.Sequence(reg, MockDevice)\n",
    "seq.declare_channel(\"main\", \"rydberg_global\")\n",
    "seq.declare_channel(\"local\", \"rydberg_local\", initial_target=\"q0\")\n",
    "seq.add(Pulse.ConstantDetuning(BlackmanWaveform(500, np.pi / 2), 0, 0), \"main\")\n",
    "seq.add(Pulse.ConstantPulse(100, 2, -3, 0), \"local\")\n",
    "seq.target(\"q1\", \"local\")\n",
    "seq.add(Pulse.ConstantAmplitude(4, RampWaveform(123, -20, 31), 0), \"local\")\n",
    "\n",
    "seq.add(Pulse.ConstantAmplitude(3, BlackmanWaveform(500, np.pi), 0), \"main\")\n",
    "\n",
    "\n",
    "sim3 = pulser_simulation.Simulation(seq)\n",
    "res3 = sim3.run()\n",
    "\n",
    "sim4 = pulser_simulation.Simulation(\n",
    "    seq, config=pulser_simulation.SimConfig(use_sampler=True)\n",
    ")\n",
    "res4 = sim4.run()\n"
   ]
  },
  {
   "cell_type": "code",
   "execution_count": 9,
   "metadata": {},
   "outputs": [
    {
     "data": {
      "text/plain": [
       "True"
      ]
     },
     "execution_count": 9,
     "metadata": {},
     "output_type": "execute_result"
    }
   ],
   "source": [
    "res3.get_final_state() == res4.get_final_state()"
   ]
  }
 ],
 "metadata": {
  "kernelspec": {
   "display_name": "Python 3.10.1 64-bit ('pulser_dev')",
   "language": "python",
   "name": "python3"
  },
  "language_info": {
   "codemirror_mode": {
    "name": "ipython",
    "version": 3
   },
   "file_extension": ".py",
   "mimetype": "text/x-python",
   "name": "python",
   "nbconvert_exporter": "python",
   "pygments_lexer": "ipython3",
   "version": "3.10.1"
  },
  "orig_nbformat": 4,
  "vscode": {
   "interpreter": {
    "hash": "09d8bcf34db098a0f7dfd01b586d0dc1b8210cc666e3c39f20e5f794936347e7"
   }
  }
 },
 "nbformat": 4,
 "nbformat_minor": 2
}
